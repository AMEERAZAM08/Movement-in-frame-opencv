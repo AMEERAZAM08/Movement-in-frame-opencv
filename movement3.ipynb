{
 "cells": [
  {
   "cell_type": "code",
   "execution_count": 5,
   "metadata": {},
   "outputs": [],
   "source": [
    "video1_path='cam.mkv'#'Static.mp4'"
   ]
  },
  {
   "cell_type": "code",
   "execution_count": 6,
   "metadata": {},
   "outputs": [],
   "source": [
    "import cv2\n",
    "import numpy as np\n",
    "import os\n",
    "import sys\n"
   ]
  },
  {
   "cell_type": "code",
   "execution_count": 14,
   "metadata": {},
   "outputs": [],
   "source": [
    "vid_clip=cv2.VideoCapture(video1_path)\n",
    "ret, frame1 = cv2.VideoCapture(video1_path).read()\n",
    "cv2.imshow('frame 1',frame1)#getting 1st frame based on that take next decission  \n",
    "\n",
    "while vid_clip.isOpened():\n",
    "    ret, frame2 = vid_clip.read()\n",
    "    if not ret:\n",
    "        break\n",
    "    cv2.imshow('frame 2',frame2)\n",
    "    fgMask=cv2.absdiff(frame1,frame2)\n",
    "    _,thres=cv2.threshold(fgMask,30,255,cv2.THRESH_BINARY)\n",
    "    cv2.imshow('firgMask frame',thres)\n",
    "\n",
    "    frame1=frame2\n",
    "    \n",
    "\n",
    "\n",
    "    if cv2.waitKey(1) & 0xFF == ord('q'):\n",
    "        break\n",
    "cv2.destroyAllWindows()\n",
    "vid_clip.release()"
   ]
  },
  {
   "cell_type": "code",
   "execution_count": 12,
   "metadata": {},
   "outputs": [],
   "source": [
    "vid_clip=cv2.VideoCapture(video1_path)\n",
    "BS_KNN=cv2.createBackgroundSubtractorKNN()\n",
    "BS_MOG2=cv2.createBackgroundSubtractorMOG2()\n",
    "\n",
    "while True:\n",
    "    ret,frame=vid_clip.read()\n",
    "    knn_FG=BS_KNN.apply(frame)\n",
    "    mog2_FG=BS_MOG2.apply(frame)\n",
    "    cv2.imshow('KNN',knn_FG)\n",
    "    cv2.imshow('MOG2',mog2_FG)\n",
    "    if cv2.waitKey(1) & 0xFF==ord('q'):\n",
    "        break\n",
    "\n",
    "cv2.destroyAllWindows()\n",
    "vid_clip.release()"
   ]
  }
 ],
 "metadata": {
  "interpreter": {
   "hash": "01ff929019f84a2f36bd04cd78eb5bad3ab1f6a75bf85d0b7d66b6f7822ff374"
  },
  "kernelspec": {
   "display_name": "Python 3",
   "language": "python",
   "name": "python3"
  },
  "language_info": {
   "codemirror_mode": {
    "name": "ipython",
    "version": 3
   },
   "file_extension": ".py",
   "mimetype": "text/x-python",
   "name": "python",
   "nbconvert_exporter": "python",
   "pygments_lexer": "ipython3",
   "version": "3.8.3"
  }
 },
 "nbformat": 4,
 "nbformat_minor": 2
}
